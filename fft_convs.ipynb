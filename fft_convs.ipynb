{
 "cells": [
  {
   "cell_type": "code",
   "execution_count": 1,
   "metadata": {},
   "outputs": [],
   "source": [
    "import torch\n",
    "from fft_conv_pytorch import fft_conv, FFTConv1d, FFTConv2d\n",
    "import torch.nn.functional as F\n",
    "import time\n",
    "import numpy as np"
   ]
  },
  {
   "cell_type": "markdown",
   "metadata": {},
   "source": [
    "#### Faster than direct convolution for large kernels.\n",
    "#### Much slower than direct convolution for small kernels"
   ]
  },
  {
   "cell_type": "markdown",
   "metadata": {},
   "source": [
    "### 0. Play with 1D cases"
   ]
  },
  {
   "cell_type": "code",
   "execution_count": 2,
   "metadata": {},
   "outputs": [],
   "source": [
    "# Create dummy data.  \n",
    "#     Data shape: (batch, channels, length)\n",
    "#     Kernel shape: (out_channels, in_channels, kernel_size)\n",
    "#     Bias shape: (out channels, )\n",
    "# For ordinary 1D convolution, simply set batch=1.\n",
    "kernal_size = 3\n",
    "signal = torch.randn(3, 3, 1000)\n",
    "kernel = torch.randn(2, 3, kernal_size)\n",
    "bias = torch.randn(2)"
   ]
  },
  {
   "cell_type": "code",
   "execution_count": 3,
   "metadata": {},
   "outputs": [
    {
     "name": "stdout",
     "output_type": "stream",
     "text": [
      "torch.Size([3, 2, 998])\n",
      "0.046999454498291016\n"
     ]
    }
   ],
   "source": [
    "# Functional execution.  (Easiest for generic use cases.)\n",
    "# out = fft_conv(signal, kernel, bias=bias)\n",
    "start_time1 = time.time()\n",
    "# Object-oriented execution.  (Requires some extra work, since the \n",
    "# defined classes were designed for use in neural networks.)\n",
    "my_fft_conv = FFTConv1d(3, 2, kernal_size, bias=True)\n",
    "my_fft_conv.weight = torch.nn.Parameter(kernel)\n",
    "my_fft_conv.bias = torch.nn.Parameter(bias)\n",
    "out = my_fft_conv(signal)\n",
    "print(out.shape)\n",
    "end_time1 = time.time()\n",
    "print(end_time1-start_time1)"
   ]
  },
  {
   "cell_type": "code",
   "execution_count": 4,
   "metadata": {},
   "outputs": [
    {
     "name": "stdout",
     "output_type": "stream",
     "text": [
      "0.024333715438842773\n"
     ]
    }
   ],
   "source": [
    "start_time2 = time.time()\n",
    "conv = torch.nn.Conv1d(3, 2, kernal_size, bias=True)\n",
    "conv.weight = torch.nn.Parameter(kernel)\n",
    "conv.bias = torch.nn.Parameter(bias)\n",
    "out = conv(signal)\n",
    "end_time2 = time.time()\n",
    "print(end_time2-start_time2)"
   ]
  },
  {
   "cell_type": "markdown",
   "metadata": {},
   "source": [
    "### 1. Brute Forced FFT-OVA"
   ]
  },
  {
   "cell_type": "code",
   "execution_count": 5,
   "metadata": {},
   "outputs": [
    {
     "name": "stdout",
     "output_type": "stream",
     "text": [
      "torch.Size([3, 2, 334])\n",
      "0.2180337905883789\n"
     ]
    }
   ],
   "source": [
    "n = signal.shape[2] // kernal_size\n",
    "L = signal.shape[2] // n\n",
    "chunks = []\n",
    "for i in range(n-1):\n",
    "    chunks.append(signal[:, :, i*L : (i+1)*L])\n",
    "chunks.append(signal[:, :, (n-1)*L:])\n",
    "\n",
    "start_time1 = time.time()\n",
    "# Object-oriented execution.  (Requires some extra work, since the \n",
    "# defined classes were designed for use in neural networks.)\n",
    "outs = [None] * n\n",
    "fft_conv = [None] * n\n",
    "for i in range(n):\n",
    "    fft_conv[i] = FFTConv1d(3, 2, kernal_size, bias=True)\n",
    "    fft_conv[i].weight = torch.nn.Parameter(kernel)\n",
    "    fft_conv[i].bias = torch.nn.Parameter(bias)\n",
    "    outs[i] = fft_conv[i](chunks[i])\n",
    "\n",
    "\n",
    "end_time1 = time.time()\n",
    "out = torch.concat(outs, dim=2)\n",
    "print(out.shape)\n",
    "\n",
    "print(end_time1-start_time1)"
   ]
  },
  {
   "cell_type": "markdown",
   "metadata": {},
   "source": [
    "### 2. 2D Blocked FFT-CONV"
   ]
  },
  {
   "cell_type": "code",
   "execution_count": 6,
   "metadata": {},
   "outputs": [],
   "source": [
    "# Create 2d dummy data.  \n",
    "#     Data shape: (batch, channels, height, width)\n",
    "#     Kernel shape: (out_channels, in_channels, kernel_size)\n",
    "#     Bias shape: (out channels, )\n",
    "# For ordinary 1D convolution, simply set batch=1.\n",
    "kernal_size = 3\n",
    "signal2d = torch.randn(3, 3, 32, 64)\n",
    "kernel2d = torch.randn(2, 3, kernal_size, kernal_size)\n",
    "bias = torch.randn(2)"
   ]
  },
  {
   "cell_type": "markdown",
   "metadata": {},
   "source": [
    "#### 2.1. original 2d fft-conv"
   ]
  },
  {
   "cell_type": "code",
   "execution_count": 7,
   "metadata": {},
   "outputs": [
    {
     "name": "stdout",
     "output_type": "stream",
     "text": [
      "torch.Size([3, 2, 30, 62])\n",
      "0.007521152496337891\n"
     ]
    }
   ],
   "source": [
    "# original fft-conv\n",
    "start_time1 = time.time()\n",
    "# Object-oriented execution.  (Requires some extra work, since the \n",
    "# defined classes were designed for use in neural networks.)\n",
    "my_fft_conv2d = FFTConv2d(3, 2, kernal_size, bias=True)\n",
    "my_fft_conv2d.weight = torch.nn.Parameter(kernel2d)\n",
    "my_fft_conv2d.bias = torch.nn.Parameter(bias)\n",
    "out = my_fft_conv2d(signal2d)\n",
    "print(out.shape)\n",
    "end_time1 = time.time()\n",
    "print(end_time1-start_time1)"
   ]
  },
  {
   "cell_type": "markdown",
   "metadata": {},
   "source": [
    "#### fft-ova-conv is the most popular fast convolution\n",
    "#### however, fft-split-conv, outperforms fft-ova-conv in computation complexity"
   ]
  },
  {
   "cell_type": "markdown",
   "metadata": {},
   "source": [
    "#### 2.2. fft-split-conv"
   ]
  },
  {
   "cell_type": "code",
   "execution_count": 14,
   "metadata": {},
   "outputs": [
    {
     "name": "stdout",
     "output_type": "stream",
     "text": [
      "torch.Size([3, 3, 36, 66])\n"
     ]
    },
    {
     "data": {
      "text/plain": [
       "torch.Size([3, 2, 30, 62])"
      ]
     },
     "execution_count": 14,
     "metadata": {},
     "output_type": "execute_result"
    }
   ],
   "source": [
    "# fft-split-conv\n",
    "# data preparation\n",
    "blocksize = 6\n",
    "m, n = signal2d.shape[2:]\n",
    "blockdims = [m // blocksize + 1, n // blocksize + 1]\n",
    "mpad, npad = blockdims[0] * blocksize, blockdims[1] * blocksize\n",
    "\n",
    "# pad to proper size\n",
    "signal2d_pad = F.pad(signal2d, pad=(0, npad - n, 0, mpad - m))\n",
    "print(signal2d_pad.shape)\n",
    "# cut padded data into sub matrices\n",
    "# parallel to optimize\n",
    "chunks = [[None] * blockdims[1] for _ in range(blockdims[0])]\n",
    "for i in range(blockdims[0]):\n",
    "    x1, x2 = i * blocksize, (i+1) * blocksize\n",
    "    for j in range(blockdims[1]):\n",
    "        y1, y2 = j * blocksize, (j+1) * blocksize\n",
    "        chunks[i][j] = (signal2d_pad[:, :, x1 : x2, y1 : y2])\n",
    "        \n",
    "# compute fft conv per block\n",
    "# parallel to optimize\n",
    "outs = None\n",
    "fft_conv_2d = [[None] * blockdims[1] for _ in range(blockdims[0])]\n",
    "for i in range(blockdims[0]):\n",
    "    for j in range(blockdims[1]):\n",
    "        fft_conv_2d[i][j] = FFTConv2d(3, 2, kernal_size, bias=True)\n",
    "        fft_conv_2d[i][j].weight = torch.nn.Parameter(kernel2d)\n",
    "        fft_conv_2d[i][j].bias = torch.nn.Parameter(bias)\n",
    "        res = fft_conv_2d[i][j](chunks[i][j])\n",
    "        if outs == None:\n",
    "            outs = torch.empty((blockdims[0], blockdims[1], 3, 2, res.shape[-2], res.shape[-1]))\n",
    "        outs[i, j, :, :, :, :] = res\n",
    "\n",
    "out.shape"
   ]
  },
  {
   "cell_type": "markdown",
   "metadata": {},
   "source": [
    "#### 2.3 fft-ova-conv toy model"
   ]
  },
  {
   "cell_type": "code",
   "execution_count": null,
   "metadata": {},
   "outputs": [],
   "source": [
    "# fft-ova-conv\n",
    "# data preparation\n",
    "m, n = signal2d.shape[2:]\n",
    "blockdims = [m // kernal_size + 1, n // kernal_size + 1]\n",
    "mpad, npad = blockdims[0] * kernal_size, blockdims[1] * kernal_size\n",
    "\n",
    "# pad to proper size\n",
    "signal2d_pad = F.pad(signal2d, pad=(0, npad - n, 0, mpad - m))\n",
    "\n",
    "# cut padded data into sub matrices\n",
    "# parallel to optimize\n",
    "chunks = [[None] * blockdims[1] for _ in range(blockdims[0])]\n",
    "for i in range(blockdims[0]):\n",
    "    x1, x2 = i * kernal_size, (i+1) * kernal_size\n",
    "    for j in range(blockdims[1]):\n",
    "        y1, y2 = j * kernal_size, (j+1) * kernal_size\n",
    "        chunks[i][j] = (signal2d_pad[:, :, x1 : x2, y1 : y2])\n"
   ]
  },
  {
   "cell_type": "code",
   "execution_count": 16,
   "metadata": {},
   "outputs": [
    {
     "name": "stdout",
     "output_type": "stream",
     "text": [
      "tensor([[[[ 0.2886, -0.3243],\n",
      "          [-0.3126, -0.3285]],\n",
      "\n",
      "         [[-0.9751, -0.2347],\n",
      "          [ 0.8087, -3.8556]]],\n",
      "\n",
      "\n",
      "        [[[-0.7202, -0.1184],\n",
      "          [ 0.5144,  0.7840]],\n",
      "\n",
      "         [[ 0.6198,  0.1922],\n",
      "          [-0.0352,  2.5967]]]])\n"
     ]
    }
   ],
   "source": [
    "# toy example: 4x4 signal\n",
    "sig = torch.randn(4, 4)\n",
    "filter = torch.randn(2, 2)\n",
    "\n",
    "blocks = torch.empty(2, 2, 2, 2)\n",
    "blocks[0, 0, :, :] = sig[:2, :2]\n",
    "blocks[1, 0, :, :] = sig[2:, :2]\n",
    "blocks[0, 1, :, :] = sig[:2, 2:]\n",
    "blocks[1, 1, :, :] = sig[2:, 2:]\n",
    "\n",
    "outs = torch.empty(2, 2, 2, 2)\n",
    "outs[0, 0, :, :] = blocks[0, 0, :, :] * filter\n",
    "outs[1, 0, :, :] = blocks[1, 0, :, :] * filter\n",
    "outs[0, 1, :, :] = blocks[0, 1, :, :] * filter\n",
    "outs[1, 1, :, :] = blocks[1, 1, :, :] * filter\n",
    "\n",
    "print(outs)"
   ]
  },
  {
   "cell_type": "code",
   "execution_count": 17,
   "metadata": {},
   "outputs": [],
   "source": [
    "import copy\n",
    "b00 = copy.deepcopy(outs[0, 0, :, :])\n",
    "b10 = copy.deepcopy(outs[1, 0, :, :])\n",
    "b01 = copy.deepcopy(outs[0, 1, :, :])\n",
    "b11 = copy.deepcopy(outs[1, 1, :, :])"
   ]
  },
  {
   "cell_type": "code",
   "execution_count": 24,
   "metadata": {},
   "outputs": [
    {
     "name": "stdout",
     "output_type": "stream",
     "text": [
      "tensor([[[[ 0.2886, -1.2995, -0.2347],\n",
      "          [-0.3126,  0.4802, -3.8556]]]])\n",
      "tensor([[[[-0.7202,  0.5014,  0.1922],\n",
      "          [ 0.5144,  0.7488,  2.5967]]]])\n"
     ]
    }
   ],
   "source": [
    "uf_row1 = torch.cat((b00.view(1, 4, 1), b01.view(1, 4, 1)), dim=2)\n",
    "row1 = F.fold(uf_row1, (2,3), kernel_size=(2,2), stride=1)\n",
    "uf_row2 = torch.cat((b10.view(1, 4, 1), b11.view(1, 4, 1)), dim=2)\n",
    "row2 = F.fold(uf_row2, (2,3), kernel_size=(2,2), stride=1)\n",
    "print(row1)\n",
    "print(row2)"
   ]
  },
  {
   "cell_type": "code",
   "execution_count": 21,
   "metadata": {},
   "outputs": [
    {
     "data": {
      "text/plain": [
       "tensor([[[[ 0.2886, -1.2995, -0.2347],\n",
       "          [-1.0328,  0.9816, -3.6635],\n",
       "          [ 0.5144,  0.7488,  2.5967]]]])"
      ]
     },
     "execution_count": 21,
     "metadata": {},
     "output_type": "execute_result"
    }
   ],
   "source": [
    "uf_res = torch.cat((row1.view(1, 6, 1), row2.view(1, 6, 1)), dim=2)\n",
    "res = F.fold(uf_res, (3,3), kernel_size=(2,3), stride=1)\n",
    "res"
   ]
  }
 ],
 "metadata": {
  "kernelspec": {
   "display_name": "Python 3.8.12 ('lscenv')",
   "language": "python",
   "name": "python3"
  },
  "language_info": {
   "codemirror_mode": {
    "name": "ipython",
    "version": 3
   },
   "file_extension": ".py",
   "mimetype": "text/x-python",
   "name": "python",
   "nbconvert_exporter": "python",
   "pygments_lexer": "ipython3",
   "version": "3.8.12"
  },
  "orig_nbformat": 4,
  "vscode": {
   "interpreter": {
    "hash": "c9c6357c3cfc5862d906d73383b9a06e1cfb863489ae6f840229332347854190"
   }
  }
 },
 "nbformat": 4,
 "nbformat_minor": 2
}
