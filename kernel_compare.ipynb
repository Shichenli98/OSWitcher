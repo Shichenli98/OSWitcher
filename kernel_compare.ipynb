{
 "cells": [
  {
   "cell_type": "markdown",
   "metadata": {},
   "source": [
    "### Compare fft-conv and conv-pytorch along diverse kernel sizes"
   ]
  },
  {
   "cell_type": "code",
   "execution_count": 1,
   "metadata": {},
   "outputs": [],
   "source": [
    "import torch\n",
    "from fft_conv_pytorch import fft_conv, FFTConv1d, FFTConv2d\n",
    "import time\n",
    "import matplotlib.pyplot as plt"
   ]
  },
  {
   "cell_type": "code",
   "execution_count": 2,
   "metadata": {},
   "outputs": [],
   "source": [
    "def test_fft_conv2d(signal, kernel_size = 3):\n",
    "    \n",
    "    kernel = torch.randn(2, 3, kernel_size, kernel_size)\n",
    "    bias = torch.randn(2)\n",
    "    \n",
    "    my_fft_conv = FFTConv2d(3, 2, kernel_size, bias=True)\n",
    "    my_fft_conv.weight = torch.nn.Parameter(kernel)\n",
    "    my_fft_conv.bias = torch.nn.Parameter(bias)\n",
    "    \n",
    "    # my_fft_conv.to(device='cuda')\n",
    "    # signal.to(device='cuda')\n",
    "    \n",
    "    start_time = time.time()\n",
    "    iters = 16\n",
    "    for _ in range(iters):\n",
    "        out = my_fft_conv(signal)\n",
    "    end_time = time.time()\n",
    "    \n",
    "    return (end_time - start_time) / iters * 1000\n",
    "\n",
    "def test_torch_conv2d(signal, kernel_size = 3):\n",
    "    \n",
    "    kernel = torch.randn(2, 3, kernel_size, kernel_size)\n",
    "    bias = torch.randn(2)\n",
    "    \n",
    "    my_torch_conv = torch.nn.Conv2d(3, 2, kernel_size, bias=True)\n",
    "    my_torch_conv.weight = torch.nn.Parameter(kernel)\n",
    "    my_torch_conv.bias = torch.nn.Parameter(bias)\n",
    "    \n",
    "    # my_torch_conv.to(device='cuda')\n",
    "    # signal.to(device='cuda')\n",
    "    \n",
    "    start_time = time.time()\n",
    "    iters = 16\n",
    "    for _ in range(iters):\n",
    "        out = my_torch_conv(signal)\n",
    "    end_time = time.time()\n",
    "    \n",
    "    return (end_time - start_time) / iters * 1000"
   ]
  },
  {
   "cell_type": "code",
   "execution_count": 4,
   "metadata": {},
   "outputs": [],
   "source": [
    "signal = torch.randn(3, 3, 512, 512)\n",
    "time_fftconv = []\n",
    "time_torchconv = []\n",
    "for k in range(5, 20, 2):\n",
    "    time_fftconv.append(test_fft_conv2d(signal=signal, kernel_size=k))\n",
    "    time_torchconv.append(test_torch_conv2d(signal=signal, kernel_size=k))"
   ]
  },
  {
   "cell_type": "code",
   "execution_count": 107,
   "metadata": {},
   "outputs": [
    {
     "data": {
      "text/plain": [
       "Text(0.5, 1.0, 'conv time along different kernel sizes')"
      ]
     },
     "execution_count": 107,
     "metadata": {},
     "output_type": "execute_result"
    },
    {
     "data": {
      "image/png": "[encoded data removed]",
      "text/plain": [
       "<Figure size 432x288 with 1 Axes>"
      ]
     },
     "metadata": {
      "needs_background": "light"
     },
     "output_type": "display_data"
    }
   ],
   "source": [
    "times = list(range(5, 100, 2))\n",
    "plt.plot(times, time_torchconv)\n",
    "plt.plot(times, time_fftconv)\n",
    "plt.xlabel('kernel size')\n",
    "plt.ylabel('time (ms)')\n",
    "plt.title('conv time along different kernel sizes')"
   ]
  },
  {
   "cell_type": "code",
   "execution_count": 103,
   "metadata": {},
   "outputs": [
    {
     "data": {
      "text/plain": [
       "[12.079671025276184,\n",
       " 13.650298118591309,\n",
       " 17.592325806617737,\n",
       " 23.455768823623657,\n",
       " 29.82383966445923,\n",
       " 37.72835433483124,\n",
       " 45.84415256977081,\n",
       " 56.81881308555603,\n",
       " 68.9048171043396,\n",
       " 79.34755086898804,\n",
       " 91.48773550987244,\n",
       " 104.27552461624146,\n",
       " 120.5986738204956,\n",
       " 132.8955590724945,\n",
       " 146.7130035161972,\n",
       " 162.97245025634766,\n",
       " 182.6190948486328,\n",
       " 196.9209462404251,\n",
       " 218.0224061012268,\n",
       " 239.68347907066345,\n",
       " 258.07730853557587,\n",
       " 285.93942523002625,\n",
       " 310.6178194284439,\n",
       " 337.8407657146454,\n",
       " 360.7510179281235,\n",
       " 387.7753019332886,\n",
       " 416.6145771741867,\n",
       " 444.0266638994217,\n",
       " 469.4087654352188,\n",
       " 502.9013454914093,\n",
       " 540.1643514633179,\n",
       " 571.6679394245148,\n",
       " 595.9310382604599,\n",
       " 633.724108338356,\n",
       " 666.9584512710571,\n",
       " 692.9101198911667,\n",
       " 744.8684275150299,\n",
       " 768.1973278522491,\n",
       " 824.9872177839279,\n",
       " 914.7688001394272,\n",
       " 871.4443445205688,\n",
       " 904.0661305189133,\n",
       " 937.5779777765274,\n",
       " 964.8266285657883,\n",
       " 1001.5587359666824,\n",
       " 1041.8788492679596,\n",
       " 1070.8399713039398,\n",
       " 1109.213948249817]"
      ]
     },
     "execution_count": 103,
     "metadata": {},
     "output_type": "execute_result"
    }
   ],
   "source": [
    "time_torchconv"
   ]
  },
  {
   "cell_type": "code",
   "execution_count": 104,
   "metadata": {},
   "outputs": [
    {
     "data": {
      "text/plain": [
       "21.821632981300354"
      ]
     },
     "execution_count": 104,
     "metadata": {},
     "output_type": "execute_result"
    }
   ],
   "source": [
    "k = 10\n",
    "test_torch_conv2d(signal=signal, kernel_size=k)"
   ]
  }
 ],
 "metadata": {
  "kernelspec": {
   "display_name": "Python 3.8.12 ('lscenv')",
   "language": "python",
   "name": "python3"
  },
  "language_info": {
   "codemirror_mode": {
    "name": "ipython",
    "version": 3
   },
   "file_extension": ".py",
   "mimetype": "text/x-python",
   "name": "python",
   "nbconvert_exporter": "python",
   "pygments_lexer": "ipython3",
   "version": "3.8.12"
  },
  "orig_nbformat": 4,
  "vscode": {
   "interpreter": {
    "hash": "c9c6357c3cfc5862d906d73383b9a06e1cfb863489ae6f840229332347854190"
   }
  }
 },
 "nbformat": 4,
 "nbformat_minor": 2
}
